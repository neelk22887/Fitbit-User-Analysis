{
 "cells": [
  {
   "cell_type": "code",
   "execution_count": 1,
   "id": "480963db",
   "metadata": {},
   "outputs": [],
   "source": [
    "import numpy as np"
   ]
  },
  {
   "cell_type": "code",
   "execution_count": 5,
   "id": "f798459d",
   "metadata": {},
   "outputs": [
    {
     "data": {
      "text/plain": [
       "array([['06-10-2017', '5464', 'Neutral', '181', '5', 'Inactive'],\n",
       "       ['07-10-2017', '6041', 'Sad', '197', '8', 'Inactive'],\n",
       "       ['08-10-2017', '25', 'Sad', '0', '5', 'Inactive'],\n",
       "       ['09-10-2017', '5461', 'Sad', '174', '4', 'Inactive'],\n",
       "       ['10-10-2017', '6915', 'Neutral', '223', '5', 'Active'],\n",
       "       ['11-10-2017', '4545', 'Sad', '149', '6', 'Inactive'],\n",
       "       ['12-10-2017', '4340', 'Sad', '140', '6', 'Inactive'],\n",
       "       ['13-10-2017', '1230', 'Sad', '38', '7', 'Inactive'],\n",
       "       ['14-10-2017', '61', 'Sad', '1', '5', 'Inactive'],\n",
       "       ['15-10-2017', '1258', 'Sad', '40', '6', 'Inactive'],\n",
       "       ['16-10-2017', '3148', 'Sad', '101', '8', 'Inactive'],\n",
       "       ['17-10-2017', '4687', 'Sad', '152', '5', 'Inactive'],\n",
       "       ['18-10-2017', '4732', 'Happy', '150', '6', 'Active'],\n",
       "       ['19-10-2017', '3519', 'Sad', '113', '7', 'Inactive'],\n",
       "       ['20-10-2017', '1580', 'Sad', '49', '5', 'Inactive'],\n",
       "       ['21-10-2017', '2822', 'Sad', '86', '6', 'Inactive'],\n",
       "       ['22-10-2017', '181', 'Sad', '6', '8', 'Inactive'],\n",
       "       ['23-10-2017', '3158', 'Neutral', '99', '5', 'Inactive'],\n",
       "       ['24-10-2017', '4383', 'Neutral', '143', '4', 'Inactive'],\n",
       "       ['25-10-2017', '3881', 'Neutral', '125', '5', 'Inactive'],\n",
       "       ['26-10-2017', '4037', 'Neutral', '129', '6', 'Inactive'],\n",
       "       ['27-10-2017', '202', 'Neutral', '6', '8', 'Inactive'],\n",
       "       ['28-10-2017', '292', 'Neutral', '9', '5', 'Inactive'],\n",
       "       ['29-10-2017', '330', 'Happy', '10', '6', 'Inactive'],\n",
       "       ['30-10-2017', '2209', 'Neutral', '72', '5', 'Inactive'],\n",
       "       ['31-10-2017', '4550', 'Happy', '150', '8', 'Active'],\n",
       "       ['01-11-2017', '4435', 'Happy', '141', '5', 'Inactive'],\n",
       "       ['02-11-2017', '4779', 'Happy', '156', '4', 'Inactive'],\n",
       "       ['03-11-2017', '1831', 'Happy', '57', '5', 'Inactive'],\n",
       "       ['04-11-2017', '2255', 'Happy', '72', '4', 'Inactive'],\n",
       "       ['05-11-2017', '539', 'Happy', '17', '5', 'Active'],\n",
       "       ['06-11-2017', '5464', 'Happy', '181', '4', 'Inactive'],\n",
       "       ['07-11-2017', '6041', 'Neutral', '197', '3', 'Inactive'],\n",
       "       ['08-11-2017', '4068', 'Happy', '131', '2', 'Inactive'],\n",
       "       ['09-11-2017', '4683', 'Happy', '154', '9', 'Inactive'],\n",
       "       ['10-11-2017', '4033', 'Happy', '137', '5', 'Inactive'],\n",
       "       ['11-11-2017', '6314', 'Happy', '193', '6', 'Active'],\n",
       "       ['12-11-2017', '614', 'Happy', '19', '4', 'Active'],\n",
       "       ['13-11-2017', '3149', 'Happy', '101', '5', 'Active'],\n",
       "       ['14-11-2017', '4005', 'Happy', '139', '8', 'Active'],\n",
       "       ['15-11-2017', '4880', 'Happy', '164', '4', 'Active'],\n",
       "       ['16-11-2017', '4136', 'Happy', '137', '5', 'Active'],\n",
       "       ['17-11-2017', '705', 'Happy', '22', '6', 'Active'],\n",
       "       ['18-11-2017', '570', 'Neutral', '17', '5', 'Active'],\n",
       "       ['19-11-2017', '269', 'Happy', '9', '6', 'Active'],\n",
       "       ['20-11-2017', '4275', 'Happy', '145', '5', 'Inactive'],\n",
       "       ['21-11-2017', '5999', 'Happy', '192', '6', 'Inactive'],\n",
       "       ['22-11-2017', '4421', 'Happy', '146', '5', 'Inactive'],\n",
       "       ['23-11-2017', '6930', 'Happy', '234', '6', 'Inactive'],\n",
       "       ['24-11-2017', '5195', 'Happy', '167', '5', 'Inactive'],\n",
       "       ['25-11-2017', '546', 'Happy', '16', '6', 'Inactive'],\n",
       "       ['26-11-2017', '493', 'Happy', '17', '7', 'Active'],\n",
       "       ['27-11-2017', '995', 'Happy', '32', '6', 'Active'],\n",
       "       ['28-11-2017', '1163', 'Neutral', '35', '7', 'Active'],\n",
       "       ['29-11-2017', '6676', 'Sad', '220', '6', 'Active'],\n",
       "       ['30-11-2017', '3608', 'Happy', '116', '5', 'Active'],\n",
       "       ['01-12-2017', '774', 'Happy', '23', '6', 'Active'],\n",
       "       ['02-12-2017', '1421', 'Happy', '44', '7', 'Active'],\n",
       "       ['03-12-2017', '4064', 'Happy', '131', '8', 'Active'],\n",
       "       ['04-12-2017', '2725', 'Happy', '86', '8', 'Active'],\n",
       "       ['05-12-2017', '5934', 'Happy', '194', '7', 'Active'],\n",
       "       ['06-12-2017', '1867', 'Happy', '60', '8', 'Active'],\n",
       "       ['07-12-2017', '3721', 'Sad', '121', '5', 'Active'],\n",
       "       ['08-12-2017', '2374', 'Neutral', '76', '4', 'Inactive'],\n",
       "       ['09-12-2017', '2909', 'Neutral', '93', '3', 'Active'],\n",
       "       ['10-12-2017', '1648', 'Sad', '53', '3', 'Active'],\n",
       "       ['11-12-2017', '799', 'Sad', '25', '4', 'Inactive'],\n",
       "       ['12-12-2017', '7102', 'Neutral', '227', '5', 'Active'],\n",
       "       ['13-12-2017', '3941', 'Neutral', '125', '5', 'Active'],\n",
       "       ['14-12-2017', '7422', 'Happy', '243', '5', 'Active'],\n",
       "       ['15-12-2017', '437', 'Neutral', '14', '3', 'Active'],\n",
       "       ['16-12-2017', '1231', 'Neutral', '39', '4', 'Active'],\n",
       "       ['17-12-2017', '1696', 'Sad', '55', '4', 'Inactive'],\n",
       "       ['18-12-2017', '4921', 'Neutral', '158', '5', 'Active'],\n",
       "       ['19-12-2017', '221', 'Sad', '7', '5', 'Active'],\n",
       "       ['20-12-2017', '6500', 'Neutral', '213', '5', 'Active'],\n",
       "       ['21-12-2017', '3575', 'Neutral', '116', '5', 'Active'],\n",
       "       ['22-12-2017', '4061', 'Sad', '129', '5', 'Inactive'],\n",
       "       ['23-12-2017', '651', 'Sad', '21', '5', 'Inactive'],\n",
       "       ['24-12-2017', '753', 'Sad', '28', '4', 'Inactive'],\n",
       "       ['25-12-2017', '518', 'Sad', '16', '3', 'Inactive'],\n",
       "       ['26-12-2017', '5537', 'Happy', '180', '4', 'Active'],\n",
       "       ['27-12-2017', '4108', 'Neutral', '138', '5', 'Active'],\n",
       "       ['28-12-2017', '5376', 'Happy', '176', '5', 'Active'],\n",
       "       ['29-12-2017', '3066', 'Neutral', '99', '4', 'Active'],\n",
       "       ['30-12-2017', '177', 'Sad', '5', '5', 'Inactive'],\n",
       "       ['31-12-2017', '36', 'Sad', '1', '3', 'Inactive'],\n",
       "       ['01-01-2018', '299', 'Sad', '10', '3', 'Inactive'],\n",
       "       ['02-01-2018', '1447', 'Neutral', '47', '3', 'Inactive'],\n",
       "       ['03-01-2018', '2599', 'Neutral', '84', '2', 'Inactive'],\n",
       "       ['04-01-2018', '702', 'Sad', '23', '3', 'Inactive'],\n",
       "       ['05-01-2018', '133', 'Sad', '4', '2', 'Inactive'],\n",
       "       ['06-01-2018', '153', 'Happy', '0', '8', 'Inactive'],\n",
       "       ['07-01-2018', '500', 'Neutral', '0', '5', 'Active'],\n",
       "       ['08-01-2018', '2127', 'Neutral', '0', '5', 'Inactive'],\n",
       "       ['09-01-2018', '2203', 'Happy', '0', '5', 'Active']], dtype='<U10')"
      ]
     },
     "execution_count": 5,
     "metadata": {},
     "output_type": "execute_result"
    }
   ],
   "source": [
    "data = np.loadtxt(r\"C:\\\\Users\\\\DELL\\Downloads\\\\fit.txt\", dtype='str')\n",
    "data"
   ]
  },
  {
   "cell_type": "code",
   "execution_count": 6,
   "id": "81f950a1",
   "metadata": {},
   "outputs": [
    {
     "data": {
      "text/plain": [
       "(96, 6)"
      ]
     },
     "execution_count": 6,
     "metadata": {},
     "output_type": "execute_result"
    }
   ],
   "source": [
    "data.shape"
   ]
  },
  {
   "cell_type": "code",
   "execution_count": 7,
   "id": "7a86c926",
   "metadata": {},
   "outputs": [
    {
     "data": {
      "text/plain": [
       "576"
      ]
     },
     "execution_count": 7,
     "metadata": {},
     "output_type": "execute_result"
    }
   ],
   "source": [
    "data.size"
   ]
  },
  {
   "cell_type": "code",
   "execution_count": 8,
   "id": "c1cb9a94",
   "metadata": {},
   "outputs": [
    {
     "data": {
      "text/plain": [
       "2"
      ]
     },
     "execution_count": 8,
     "metadata": {},
     "output_type": "execute_result"
    }
   ],
   "source": [
    "data.ndim"
   ]
  },
  {
   "cell_type": "code",
   "execution_count": 9,
   "id": "962711db",
   "metadata": {},
   "outputs": [
    {
     "data": {
      "text/plain": [
       "array(['06-10-2017', '5464', 'Neutral', '181', '5', 'Inactive'],\n",
       "      dtype='<U10')"
      ]
     },
     "execution_count": 9,
     "metadata": {},
     "output_type": "execute_result"
    }
   ],
   "source": [
    "data[0]"
   ]
  },
  {
   "cell_type": "code",
   "execution_count": 12,
   "id": "c7af8882",
   "metadata": {},
   "outputs": [
    {
     "data": {
      "text/plain": [
       "array(['07-10-2017', '6041', 'Sad', '197', '8'], dtype='<U10')"
      ]
     },
     "execution_count": 12,
     "metadata": {},
     "output_type": "execute_result"
    }
   ],
   "source": [
    "data[1][:5]"
   ]
  },
  {
   "cell_type": "code",
   "execution_count": 13,
   "id": "1dadcef3",
   "metadata": {},
   "outputs": [
    {
     "data": {
      "text/plain": [
       "array([['06-10-2017', '07-10-2017', '08-10-2017', '09-10-2017',\n",
       "        '10-10-2017', '11-10-2017', '12-10-2017', '13-10-2017',\n",
       "        '14-10-2017', '15-10-2017', '16-10-2017', '17-10-2017',\n",
       "        '18-10-2017', '19-10-2017', '20-10-2017', '21-10-2017',\n",
       "        '22-10-2017', '23-10-2017', '24-10-2017', '25-10-2017',\n",
       "        '26-10-2017', '27-10-2017', '28-10-2017', '29-10-2017',\n",
       "        '30-10-2017', '31-10-2017', '01-11-2017', '02-11-2017',\n",
       "        '03-11-2017', '04-11-2017', '05-11-2017', '06-11-2017',\n",
       "        '07-11-2017', '08-11-2017', '09-11-2017', '10-11-2017',\n",
       "        '11-11-2017', '12-11-2017', '13-11-2017', '14-11-2017',\n",
       "        '15-11-2017', '16-11-2017', '17-11-2017', '18-11-2017',\n",
       "        '19-11-2017', '20-11-2017', '21-11-2017', '22-11-2017',\n",
       "        '23-11-2017', '24-11-2017', '25-11-2017', '26-11-2017',\n",
       "        '27-11-2017', '28-11-2017', '29-11-2017', '30-11-2017',\n",
       "        '01-12-2017', '02-12-2017', '03-12-2017', '04-12-2017',\n",
       "        '05-12-2017', '06-12-2017', '07-12-2017', '08-12-2017',\n",
       "        '09-12-2017', '10-12-2017', '11-12-2017', '12-12-2017',\n",
       "        '13-12-2017', '14-12-2017', '15-12-2017', '16-12-2017',\n",
       "        '17-12-2017', '18-12-2017', '19-12-2017', '20-12-2017',\n",
       "        '21-12-2017', '22-12-2017', '23-12-2017', '24-12-2017',\n",
       "        '25-12-2017', '26-12-2017', '27-12-2017', '28-12-2017',\n",
       "        '29-12-2017', '30-12-2017', '31-12-2017', '01-01-2018',\n",
       "        '02-01-2018', '03-01-2018', '04-01-2018', '05-01-2018',\n",
       "        '06-01-2018', '07-01-2018', '08-01-2018', '09-01-2018'],\n",
       "       ['5464', '6041', '25', '5461', '6915', '4545', '4340', '1230',\n",
       "        '61', '1258', '3148', '4687', '4732', '3519', '1580', '2822',\n",
       "        '181', '3158', '4383', '3881', '4037', '202', '292', '330',\n",
       "        '2209', '4550', '4435', '4779', '1831', '2255', '539', '5464',\n",
       "        '6041', '4068', '4683', '4033', '6314', '614', '3149', '4005',\n",
       "        '4880', '4136', '705', '570', '269', '4275', '5999', '4421',\n",
       "        '6930', '5195', '546', '493', '995', '1163', '6676', '3608',\n",
       "        '774', '1421', '4064', '2725', '5934', '1867', '3721', '2374',\n",
       "        '2909', '1648', '799', '7102', '3941', '7422', '437', '1231',\n",
       "        '1696', '4921', '221', '6500', '3575', '4061', '651', '753',\n",
       "        '518', '5537', '4108', '5376', '3066', '177', '36', '299',\n",
       "        '1447', '2599', '702', '133', '153', '500', '2127', '2203'],\n",
       "       ['Neutral', 'Sad', 'Sad', 'Sad', 'Neutral', 'Sad', 'Sad', 'Sad',\n",
       "        'Sad', 'Sad', 'Sad', 'Sad', 'Happy', 'Sad', 'Sad', 'Sad', 'Sad',\n",
       "        'Neutral', 'Neutral', 'Neutral', 'Neutral', 'Neutral', 'Neutral',\n",
       "        'Happy', 'Neutral', 'Happy', 'Happy', 'Happy', 'Happy', 'Happy',\n",
       "        'Happy', 'Happy', 'Neutral', 'Happy', 'Happy', 'Happy', 'Happy',\n",
       "        'Happy', 'Happy', 'Happy', 'Happy', 'Happy', 'Happy', 'Neutral',\n",
       "        'Happy', 'Happy', 'Happy', 'Happy', 'Happy', 'Happy', 'Happy',\n",
       "        'Happy', 'Happy', 'Neutral', 'Sad', 'Happy', 'Happy', 'Happy',\n",
       "        'Happy', 'Happy', 'Happy', 'Happy', 'Sad', 'Neutral', 'Neutral',\n",
       "        'Sad', 'Sad', 'Neutral', 'Neutral', 'Happy', 'Neutral',\n",
       "        'Neutral', 'Sad', 'Neutral', 'Sad', 'Neutral', 'Neutral', 'Sad',\n",
       "        'Sad', 'Sad', 'Sad', 'Happy', 'Neutral', 'Happy', 'Neutral',\n",
       "        'Sad', 'Sad', 'Sad', 'Neutral', 'Neutral', 'Sad', 'Sad', 'Happy',\n",
       "        'Neutral', 'Neutral', 'Happy'],\n",
       "       ['181', '197', '0', '174', '223', '149', '140', '38', '1', '40',\n",
       "        '101', '152', '150', '113', '49', '86', '6', '99', '143', '125',\n",
       "        '129', '6', '9', '10', '72', '150', '141', '156', '57', '72',\n",
       "        '17', '181', '197', '131', '154', '137', '193', '19', '101',\n",
       "        '139', '164', '137', '22', '17', '9', '145', '192', '146', '234',\n",
       "        '167', '16', '17', '32', '35', '220', '116', '23', '44', '131',\n",
       "        '86', '194', '60', '121', '76', '93', '53', '25', '227', '125',\n",
       "        '243', '14', '39', '55', '158', '7', '213', '116', '129', '21',\n",
       "        '28', '16', '180', '138', '176', '99', '5', '1', '10', '47',\n",
       "        '84', '23', '4', '0', '0', '0', '0'],\n",
       "       ['5', '8', '5', '4', '5', '6', '6', '7', '5', '6', '8', '5', '6',\n",
       "        '7', '5', '6', '8', '5', '4', '5', '6', '8', '5', '6', '5', '8',\n",
       "        '5', '4', '5', '4', '5', '4', '3', '2', '9', '5', '6', '4', '5',\n",
       "        '8', '4', '5', '6', '5', '6', '5', '6', '5', '6', '5', '6', '7',\n",
       "        '6', '7', '6', '5', '6', '7', '8', '8', '7', '8', '5', '4', '3',\n",
       "        '3', '4', '5', '5', '5', '3', '4', '4', '5', '5', '5', '5', '5',\n",
       "        '5', '4', '3', '4', '5', '5', '4', '5', '3', '3', '3', '2', '3',\n",
       "        '2', '8', '5', '5', '5'],\n",
       "       ['Inactive', 'Inactive', 'Inactive', 'Inactive', 'Active',\n",
       "        'Inactive', 'Inactive', 'Inactive', 'Inactive', 'Inactive',\n",
       "        'Inactive', 'Inactive', 'Active', 'Inactive', 'Inactive',\n",
       "        'Inactive', 'Inactive', 'Inactive', 'Inactive', 'Inactive',\n",
       "        'Inactive', 'Inactive', 'Inactive', 'Inactive', 'Inactive',\n",
       "        'Active', 'Inactive', 'Inactive', 'Inactive', 'Inactive',\n",
       "        'Active', 'Inactive', 'Inactive', 'Inactive', 'Inactive',\n",
       "        'Inactive', 'Active', 'Active', 'Active', 'Active', 'Active',\n",
       "        'Active', 'Active', 'Active', 'Active', 'Inactive', 'Inactive',\n",
       "        'Inactive', 'Inactive', 'Inactive', 'Inactive', 'Active',\n",
       "        'Active', 'Active', 'Active', 'Active', 'Active', 'Active',\n",
       "        'Active', 'Active', 'Active', 'Active', 'Active', 'Inactive',\n",
       "        'Active', 'Active', 'Inactive', 'Active', 'Active', 'Active',\n",
       "        'Active', 'Active', 'Inactive', 'Active', 'Active', 'Active',\n",
       "        'Active', 'Inactive', 'Inactive', 'Inactive', 'Inactive',\n",
       "        'Active', 'Active', 'Active', 'Active', 'Inactive', 'Inactive',\n",
       "        'Inactive', 'Inactive', 'Inactive', 'Inactive', 'Inactive',\n",
       "        'Inactive', 'Active', 'Inactive', 'Active']], dtype='<U10')"
      ]
     },
     "execution_count": 13,
     "metadata": {},
     "output_type": "execute_result"
    }
   ],
   "source": [
    "# Tranposing the  data\n",
    "data = data.T\n",
    "data"
   ]
  },
  {
   "cell_type": "code",
   "execution_count": 16,
   "id": "6b49a2f3",
   "metadata": {},
   "outputs": [
    {
     "data": {
      "text/plain": [
       "array([5464, 6041,   25, 5461, 6915, 4545, 4340, 1230,   61, 1258, 3148,\n",
       "       4687, 4732, 3519, 1580, 2822,  181, 3158, 4383, 3881, 4037,  202,\n",
       "        292,  330, 2209, 4550, 4435, 4779, 1831, 2255,  539, 5464, 6041,\n",
       "       4068, 4683, 4033, 6314,  614, 3149, 4005, 4880, 4136,  705,  570,\n",
       "        269, 4275, 5999, 4421, 6930, 5195,  546,  493,  995, 1163, 6676,\n",
       "       3608,  774, 1421, 4064, 2725, 5934, 1867, 3721, 2374, 2909, 1648,\n",
       "        799, 7102, 3941, 7422,  437, 1231, 1696, 4921,  221, 6500, 3575,\n",
       "       4061,  651,  753,  518, 5537, 4108, 5376, 3066,  177,   36,  299,\n",
       "       1447, 2599,  702,  133,  153,  500, 2127, 2203])"
      ]
     },
     "execution_count": 16,
     "metadata": {},
     "output_type": "execute_result"
    }
   ],
   "source": [
    "step_count = data[1].astype('int')\n",
    "step_count"
   ]
  },
  {
   "cell_type": "code",
   "execution_count": 17,
   "id": "8c090da9",
   "metadata": {},
   "outputs": [
    {
     "data": {
      "text/plain": [
       "2935.9375"
      ]
     },
     "execution_count": 17,
     "metadata": {},
     "output_type": "execute_result"
    }
   ],
   "source": [
    "step_count.mean()"
   ]
  },
  {
   "cell_type": "code",
   "execution_count": 18,
   "id": "13cbbdc8",
   "metadata": {},
   "outputs": [
    {
     "data": {
      "text/plain": [
       "2987.5"
      ]
     },
     "execution_count": 18,
     "metadata": {},
     "output_type": "execute_result"
    }
   ],
   "source": [
    "np.median(step_count)"
   ]
  },
  {
   "cell_type": "code",
   "execution_count": 22,
   "id": "8aeca9fd",
   "metadata": {},
   "outputs": [
    {
     "data": {
      "text/plain": [
       "25"
      ]
     },
     "execution_count": 22,
     "metadata": {},
     "output_type": "execute_result"
    }
   ],
   "source": [
    "step_count.min()"
   ]
  },
  {
   "cell_type": "code",
   "execution_count": 23,
   "id": "9a9f59dd",
   "metadata": {},
   "outputs": [
    {
     "data": {
      "text/plain": [
       "7422"
      ]
     },
     "execution_count": 23,
     "metadata": {},
     "output_type": "execute_result"
    }
   ],
   "source": [
    "step_count.max()"
   ]
  },
  {
   "cell_type": "code",
   "execution_count": 24,
   "id": "f8df27fa",
   "metadata": {},
   "outputs": [
    {
     "data": {
      "text/plain": [
       "2132.191887728154"
      ]
     },
     "execution_count": 24,
     "metadata": {},
     "output_type": "execute_result"
    }
   ],
   "source": [
    "step_count.std()"
   ]
  },
  {
   "cell_type": "code",
   "execution_count": 26,
   "id": "6892b138",
   "metadata": {},
   "outputs": [
    {
     "data": {
      "text/plain": [
       "48"
      ]
     },
     "execution_count": 26,
     "metadata": {},
     "output_type": "execute_result"
    }
   ],
   "source": [
    "step_count[step_count > step_count.mean()].size"
   ]
  },
  {
   "cell_type": "code",
   "execution_count": 27,
   "id": "9d848064",
   "metadata": {},
   "outputs": [
    {
     "data": {
      "text/plain": [
       "17"
      ]
     },
     "execution_count": 27,
     "metadata": {},
     "output_type": "execute_result"
    }
   ],
   "source": [
    "step_count[step_count > 5000].size"
   ]
  },
  {
   "cell_type": "code",
   "execution_count": 28,
   "id": "4ef40471",
   "metadata": {},
   "outputs": [
    {
     "data": {
      "text/plain": [
       "38"
      ]
     },
     "execution_count": 28,
     "metadata": {},
     "output_type": "execute_result"
    }
   ],
   "source": [
    "step_count[step_count > 4000].size"
   ]
  },
  {
   "cell_type": "code",
   "execution_count": 29,
   "id": "f3e31b0b",
   "metadata": {},
   "outputs": [
    {
     "data": {
      "text/plain": [
       "96"
      ]
     },
     "execution_count": 29,
     "metadata": {},
     "output_type": "execute_result"
    }
   ],
   "source": [
    "step_count.size"
   ]
  },
  {
   "cell_type": "code",
   "execution_count": 30,
   "id": "2feb4609",
   "metadata": {},
   "outputs": [
    {
     "data": {
      "text/plain": [
       "9"
      ]
     },
     "execution_count": 30,
     "metadata": {},
     "output_type": "execute_result"
    }
   ],
   "source": [
    "step_count[step_count > 6000].size"
   ]
  },
  {
   "cell_type": "code",
   "execution_count": 31,
   "id": "460ed6af",
   "metadata": {},
   "outputs": [
    {
     "data": {
      "text/plain": [
       "2"
      ]
     },
     "execution_count": 31,
     "metadata": {},
     "output_type": "execute_result"
    }
   ],
   "source": [
    "step_count[step_count > 7000].size"
   ]
  },
  {
   "cell_type": "code",
   "execution_count": 32,
   "id": "bc557beb",
   "metadata": {},
   "outputs": [
    {
     "data": {
      "text/plain": [
       "57"
      ]
     },
     "execution_count": 32,
     "metadata": {},
     "output_type": "execute_result"
    }
   ],
   "source": [
    "step_count[step_count > 2000].size"
   ]
  },
  {
   "cell_type": "code",
   "execution_count": 33,
   "id": "9926c658",
   "metadata": {},
   "outputs": [
    {
     "data": {
      "text/plain": [
       "array([25, 61, 36])"
      ]
     },
     "execution_count": 33,
     "metadata": {},
     "output_type": "execute_result"
    }
   ],
   "source": [
    "step_count[step_count < 100]"
   ]
  },
  {
   "cell_type": "code",
   "execution_count": 34,
   "id": "a81fc252",
   "metadata": {},
   "outputs": [
    {
     "data": {
      "text/plain": [
       "28"
      ]
     },
     "execution_count": 34,
     "metadata": {},
     "output_type": "execute_result"
    }
   ],
   "source": [
    "step_count[step_count < 1000].size"
   ]
  },
  {
   "cell_type": "code",
   "execution_count": 35,
   "id": "54dfc31f",
   "metadata": {},
   "outputs": [
    {
     "data": {
      "text/plain": [
       "96"
      ]
     },
     "execution_count": 35,
     "metadata": {},
     "output_type": "execute_result"
    }
   ],
   "source": [
    "step_count.size"
   ]
  },
  {
   "cell_type": "code",
   "execution_count": 38,
   "id": "2c3ecad6",
   "metadata": {},
   "outputs": [
    {
     "data": {
      "text/plain": [
       "11"
      ]
     },
     "execution_count": 38,
     "metadata": {},
     "output_type": "execute_result"
    }
   ],
   "source": [
    "step_count[(step_count >1000) & (step_count <= 2000)].size"
   ]
  },
  {
   "cell_type": "code",
   "execution_count": 39,
   "id": "88dfc2dc",
   "metadata": {},
   "outputs": [
    {
     "data": {
      "text/plain": [
       "9"
      ]
     },
     "execution_count": 39,
     "metadata": {},
     "output_type": "execute_result"
    }
   ],
   "source": [
    "step_count[(step_count >2000) & (step_count <= 3000)].size"
   ]
  },
  {
   "cell_type": "code",
   "execution_count": 40,
   "id": "39cf81a6",
   "metadata": {},
   "outputs": [
    {
     "data": {
      "text/plain": [
       "10"
      ]
     },
     "execution_count": 40,
     "metadata": {},
     "output_type": "execute_result"
    }
   ],
   "source": [
    "step_count[(step_count >3000) & (step_count <= 4000)].size"
   ]
  },
  {
   "cell_type": "code",
   "execution_count": 41,
   "id": "d12104d6",
   "metadata": {},
   "outputs": [
    {
     "data": {
      "text/plain": [
       "21"
      ]
     },
     "execution_count": 41,
     "metadata": {},
     "output_type": "execute_result"
    }
   ],
   "source": [
    "step_count[(step_count >4000) & (step_count <= 5000)].size"
   ]
  },
  {
   "cell_type": "code",
   "execution_count": 42,
   "id": "48188075",
   "metadata": {},
   "outputs": [
    {
     "data": {
      "text/plain": [
       "8"
      ]
     },
     "execution_count": 42,
     "metadata": {},
     "output_type": "execute_result"
    }
   ],
   "source": [
    "step_count[(step_count >5000) & (step_count <= 6000)].size"
   ]
  },
  {
   "cell_type": "code",
   "execution_count": 43,
   "id": "30dd7da4",
   "metadata": {},
   "outputs": [
    {
     "data": {
      "text/plain": [
       "7"
      ]
     },
     "execution_count": 43,
     "metadata": {},
     "output_type": "execute_result"
    }
   ],
   "source": [
    "step_count[(step_count >6000) & (step_count <= 7000)].size"
   ]
  },
  {
   "cell_type": "code",
   "execution_count": 44,
   "id": "348ea2d7",
   "metadata": {},
   "outputs": [
    {
     "data": {
      "text/plain": [
       "2"
      ]
     },
     "execution_count": 44,
     "metadata": {},
     "output_type": "execute_result"
    }
   ],
   "source": [
    "step_count[step_count >7000].size"
   ]
  },
  {
   "cell_type": "code",
   "execution_count": 45,
   "id": "0203e757",
   "metadata": {},
   "outputs": [
    {
     "data": {
      "text/plain": [
       "array(['Neutral', 'Sad', 'Sad', 'Sad', 'Neutral', 'Sad', 'Sad', 'Sad',\n",
       "       'Sad', 'Sad', 'Sad', 'Sad', 'Happy', 'Sad', 'Sad', 'Sad', 'Sad',\n",
       "       'Neutral', 'Neutral', 'Neutral', 'Neutral', 'Neutral', 'Neutral',\n",
       "       'Happy', 'Neutral', 'Happy', 'Happy', 'Happy', 'Happy', 'Happy',\n",
       "       'Happy', 'Happy', 'Neutral', 'Happy', 'Happy', 'Happy', 'Happy',\n",
       "       'Happy', 'Happy', 'Happy', 'Happy', 'Happy', 'Happy', 'Neutral',\n",
       "       'Happy', 'Happy', 'Happy', 'Happy', 'Happy', 'Happy', 'Happy',\n",
       "       'Happy', 'Happy', 'Neutral', 'Sad', 'Happy', 'Happy', 'Happy',\n",
       "       'Happy', 'Happy', 'Happy', 'Happy', 'Sad', 'Neutral', 'Neutral',\n",
       "       'Sad', 'Sad', 'Neutral', 'Neutral', 'Happy', 'Neutral', 'Neutral',\n",
       "       'Sad', 'Neutral', 'Sad', 'Neutral', 'Neutral', 'Sad', 'Sad', 'Sad',\n",
       "       'Sad', 'Happy', 'Neutral', 'Happy', 'Neutral', 'Sad', 'Sad', 'Sad',\n",
       "       'Neutral', 'Neutral', 'Sad', 'Sad', 'Happy', 'Neutral', 'Neutral',\n",
       "       'Happy'], dtype='<U10')"
      ]
     },
     "execution_count": 45,
     "metadata": {},
     "output_type": "execute_result"
    }
   ],
   "source": [
    "data[2]"
   ]
  },
  {
   "cell_type": "code",
   "execution_count": 46,
   "id": "bbebf4fe",
   "metadata": {},
   "outputs": [],
   "source": [
    "mood = data[2]"
   ]
  },
  {
   "cell_type": "code",
   "execution_count": 47,
   "id": "d8423568",
   "metadata": {},
   "outputs": [
    {
     "data": {
      "text/plain": [
       "array(['Neutral', 'Sad', 'Sad', 'Sad', 'Neutral'], dtype='<U10')"
      ]
     },
     "execution_count": 47,
     "metadata": {},
     "output_type": "execute_result"
    }
   ],
   "source": [
    "mood[:5]"
   ]
  },
  {
   "cell_type": "code",
   "execution_count": 48,
   "id": "54c702f8",
   "metadata": {},
   "outputs": [
    {
     "data": {
      "text/plain": [
       "array(['Happy', 'Neutral', 'Sad'], dtype='<U10')"
      ]
     },
     "execution_count": 48,
     "metadata": {},
     "output_type": "execute_result"
    }
   ],
   "source": [
    "unique_values = np.unique(mood)\n",
    "unique_values"
   ]
  },
  {
   "cell_type": "code",
   "execution_count": 50,
   "id": "efe37c0b",
   "metadata": {},
   "outputs": [
    {
     "data": {
      "text/plain": [
       "array([False, False, False, False, False, False, False, False, False,\n",
       "       False, False, False,  True, False, False, False, False, False,\n",
       "       False, False, False, False, False,  True, False,  True,  True,\n",
       "        True,  True,  True,  True,  True, False,  True,  True,  True,\n",
       "        True,  True,  True,  True,  True,  True,  True, False,  True,\n",
       "        True,  True,  True,  True,  True,  True,  True,  True, False,\n",
       "       False,  True,  True,  True,  True,  True,  True,  True, False,\n",
       "       False, False, False, False, False, False,  True, False, False,\n",
       "       False, False, False, False, False, False, False, False, False,\n",
       "        True, False,  True, False, False, False, False, False, False,\n",
       "       False, False,  True, False, False,  True])"
      ]
     },
     "execution_count": 50,
     "metadata": {},
     "output_type": "execute_result"
    }
   ],
   "source": [
    "mood=='Happy'"
   ]
  },
  {
   "cell_type": "code",
   "execution_count": 51,
   "id": "3159ffc5",
   "metadata": {},
   "outputs": [
    {
     "data": {
      "text/plain": [
       "40"
      ]
     },
     "execution_count": 51,
     "metadata": {},
     "output_type": "execute_result"
    }
   ],
   "source": [
    "mood[mood=='Happy'].size"
   ]
  },
  {
   "cell_type": "code",
   "execution_count": 52,
   "id": "63c20cc7",
   "metadata": {},
   "outputs": [
    {
     "data": {
      "text/plain": [
       "27"
      ]
     },
     "execution_count": 52,
     "metadata": {},
     "output_type": "execute_result"
    }
   ],
   "source": [
    "mood[mood=='Neutral'].size"
   ]
  },
  {
   "cell_type": "code",
   "execution_count": 53,
   "id": "c98fa976",
   "metadata": {},
   "outputs": [
    {
     "data": {
      "text/plain": [
       "29"
      ]
     },
     "execution_count": 53,
     "metadata": {},
     "output_type": "execute_result"
    }
   ],
   "source": [
    "mood[mood=='Sad'].size"
   ]
  },
  {
   "cell_type": "code",
   "execution_count": 54,
   "id": "9a4d7cba",
   "metadata": {},
   "outputs": [
    {
     "data": {
      "text/plain": [
       "96"
      ]
     },
     "execution_count": 54,
     "metadata": {},
     "output_type": "execute_result"
    }
   ],
   "source": [
    "40+27+29"
   ]
  },
  {
   "cell_type": "code",
   "execution_count": 55,
   "id": "218c570a",
   "metadata": {},
   "outputs": [
    {
     "data": {
      "text/plain": [
       "array(['181', '197', '0', '174', '223'], dtype='<U10')"
      ]
     },
     "execution_count": 55,
     "metadata": {},
     "output_type": "execute_result"
    }
   ],
   "source": [
    "data[3][:5]"
   ]
  },
  {
   "cell_type": "code",
   "execution_count": 56,
   "id": "b427fc0f",
   "metadata": {},
   "outputs": [
    {
     "data": {
      "text/plain": [
       "array(['181', '197', '0', '174', '223', '149', '140', '38', '1', '40',\n",
       "       '101', '152', '150', '113', '49', '86', '6', '99', '143', '125',\n",
       "       '129', '6', '9', '10', '72', '150', '141', '156', '57', '72', '17',\n",
       "       '181', '197', '131', '154', '137', '193', '19', '101', '139',\n",
       "       '164', '137', '22', '17', '9', '145', '192', '146', '234', '167',\n",
       "       '16', '17', '32', '35', '220', '116', '23', '44', '131', '86',\n",
       "       '194', '60', '121', '76', '93', '53', '25', '227', '125', '243',\n",
       "       '14', '39', '55', '158', '7', '213', '116', '129', '21', '28',\n",
       "       '16', '180', '138', '176', '99', '5', '1', '10', '47', '84', '23',\n",
       "       '4', '0', '0', '0', '0'], dtype='<U10')"
      ]
     },
     "execution_count": 56,
     "metadata": {},
     "output_type": "execute_result"
    }
   ],
   "source": [
    "data[3]"
   ]
  },
  {
   "cell_type": "code",
   "execution_count": 57,
   "id": "12dfa388",
   "metadata": {},
   "outputs": [
    {
     "data": {
      "text/plain": [
       "array([181, 197,   0, 174, 223, 149, 140,  38,   1,  40, 101, 152, 150,\n",
       "       113,  49,  86,   6,  99, 143, 125, 129,   6,   9,  10,  72, 150,\n",
       "       141, 156,  57,  72,  17, 181, 197, 131, 154, 137, 193,  19, 101,\n",
       "       139, 164, 137,  22,  17,   9, 145, 192, 146, 234, 167,  16,  17,\n",
       "        32,  35, 220, 116,  23,  44, 131,  86, 194,  60, 121,  76,  93,\n",
       "        53,  25, 227, 125, 243,  14,  39,  55, 158,   7, 213, 116, 129,\n",
       "        21,  28,  16, 180, 138, 176,  99,   5,   1,  10,  47,  84,  23,\n",
       "         4,   0,   0,   0,   0])"
      ]
     },
     "execution_count": 57,
     "metadata": {},
     "output_type": "execute_result"
    }
   ],
   "source": [
    "cal_burnt = data[3].astype('int')\n",
    "cal_burnt"
   ]
  },
  {
   "cell_type": "code",
   "execution_count": 58,
   "id": "06f32928",
   "metadata": {},
   "outputs": [
    {
     "data": {
      "text/plain": [
       "243"
      ]
     },
     "execution_count": 58,
     "metadata": {},
     "output_type": "execute_result"
    }
   ],
   "source": [
    "cal_burnt.max()"
   ]
  },
  {
   "cell_type": "code",
   "execution_count": 59,
   "id": "171ab659",
   "metadata": {},
   "outputs": [
    {
     "data": {
      "text/plain": [
       "0"
      ]
     },
     "execution_count": 59,
     "metadata": {},
     "output_type": "execute_result"
    }
   ],
   "source": [
    "cal_burnt.min()"
   ]
  },
  {
   "cell_type": "code",
   "execution_count": 60,
   "id": "d5bc8d21",
   "metadata": {},
   "outputs": [
    {
     "data": {
      "text/plain": [
       "93.44791666666667"
      ]
     },
     "execution_count": 60,
     "metadata": {},
     "output_type": "execute_result"
    }
   ],
   "source": [
    "cal_burnt.mean()"
   ]
  },
  {
   "cell_type": "code",
   "execution_count": 62,
   "id": "759c6c80",
   "metadata": {},
   "outputs": [
    {
     "data": {
      "text/plain": [
       "93.44791666666667"
      ]
     },
     "execution_count": 62,
     "metadata": {},
     "output_type": "execute_result"
    }
   ],
   "source": [
    "cal_burnt.sum()/cal_burnt.size"
   ]
  },
  {
   "cell_type": "code",
   "execution_count": 64,
   "id": "7da05da8",
   "metadata": {},
   "outputs": [
    {
     "data": {
      "text/plain": [
       "72"
      ]
     },
     "execution_count": 64,
     "metadata": {},
     "output_type": "execute_result"
    }
   ],
   "source": [
    "np.unique(cal_burnt).size"
   ]
  },
  {
   "cell_type": "code",
   "execution_count": 65,
   "id": "319d879c",
   "metadata": {},
   "outputs": [
    {
     "data": {
      "text/plain": [
       "array([['06-10-2017', '07-10-2017', '08-10-2017', '09-10-2017',\n",
       "        '10-10-2017', '11-10-2017', '12-10-2017', '13-10-2017',\n",
       "        '14-10-2017', '15-10-2017', '16-10-2017', '17-10-2017',\n",
       "        '18-10-2017', '19-10-2017', '20-10-2017', '21-10-2017',\n",
       "        '22-10-2017', '23-10-2017', '24-10-2017', '25-10-2017',\n",
       "        '26-10-2017', '27-10-2017', '28-10-2017', '29-10-2017',\n",
       "        '30-10-2017', '31-10-2017', '01-11-2017', '02-11-2017',\n",
       "        '03-11-2017', '04-11-2017', '05-11-2017', '06-11-2017',\n",
       "        '07-11-2017', '08-11-2017', '09-11-2017', '10-11-2017',\n",
       "        '11-11-2017', '12-11-2017', '13-11-2017', '14-11-2017',\n",
       "        '15-11-2017', '16-11-2017', '17-11-2017', '18-11-2017',\n",
       "        '19-11-2017', '20-11-2017', '21-11-2017', '22-11-2017',\n",
       "        '23-11-2017', '24-11-2017', '25-11-2017', '26-11-2017',\n",
       "        '27-11-2017', '28-11-2017', '29-11-2017', '30-11-2017',\n",
       "        '01-12-2017', '02-12-2017', '03-12-2017', '04-12-2017',\n",
       "        '05-12-2017', '06-12-2017', '07-12-2017', '08-12-2017',\n",
       "        '09-12-2017', '10-12-2017', '11-12-2017', '12-12-2017',\n",
       "        '13-12-2017', '14-12-2017', '15-12-2017', '16-12-2017',\n",
       "        '17-12-2017', '18-12-2017', '19-12-2017', '20-12-2017',\n",
       "        '21-12-2017', '22-12-2017', '23-12-2017', '24-12-2017',\n",
       "        '25-12-2017', '26-12-2017', '27-12-2017', '28-12-2017',\n",
       "        '29-12-2017', '30-12-2017', '31-12-2017', '01-01-2018',\n",
       "        '02-01-2018', '03-01-2018', '04-01-2018', '05-01-2018',\n",
       "        '06-01-2018', '07-01-2018', '08-01-2018', '09-01-2018'],\n",
       "       ['5464', '6041', '25', '5461', '6915', '4545', '4340', '1230',\n",
       "        '61', '1258', '3148', '4687', '4732', '3519', '1580', '2822',\n",
       "        '181', '3158', '4383', '3881', '4037', '202', '292', '330',\n",
       "        '2209', '4550', '4435', '4779', '1831', '2255', '539', '5464',\n",
       "        '6041', '4068', '4683', '4033', '6314', '614', '3149', '4005',\n",
       "        '4880', '4136', '705', '570', '269', '4275', '5999', '4421',\n",
       "        '6930', '5195', '546', '493', '995', '1163', '6676', '3608',\n",
       "        '774', '1421', '4064', '2725', '5934', '1867', '3721', '2374',\n",
       "        '2909', '1648', '799', '7102', '3941', '7422', '437', '1231',\n",
       "        '1696', '4921', '221', '6500', '3575', '4061', '651', '753',\n",
       "        '518', '5537', '4108', '5376', '3066', '177', '36', '299',\n",
       "        '1447', '2599', '702', '133', '153', '500', '2127', '2203'],\n",
       "       ['Neutral', 'Sad', 'Sad', 'Sad', 'Neutral', 'Sad', 'Sad', 'Sad',\n",
       "        'Sad', 'Sad', 'Sad', 'Sad', 'Happy', 'Sad', 'Sad', 'Sad', 'Sad',\n",
       "        'Neutral', 'Neutral', 'Neutral', 'Neutral', 'Neutral', 'Neutral',\n",
       "        'Happy', 'Neutral', 'Happy', 'Happy', 'Happy', 'Happy', 'Happy',\n",
       "        'Happy', 'Happy', 'Neutral', 'Happy', 'Happy', 'Happy', 'Happy',\n",
       "        'Happy', 'Happy', 'Happy', 'Happy', 'Happy', 'Happy', 'Neutral',\n",
       "        'Happy', 'Happy', 'Happy', 'Happy', 'Happy', 'Happy', 'Happy',\n",
       "        'Happy', 'Happy', 'Neutral', 'Sad', 'Happy', 'Happy', 'Happy',\n",
       "        'Happy', 'Happy', 'Happy', 'Happy', 'Sad', 'Neutral', 'Neutral',\n",
       "        'Sad', 'Sad', 'Neutral', 'Neutral', 'Happy', 'Neutral',\n",
       "        'Neutral', 'Sad', 'Neutral', 'Sad', 'Neutral', 'Neutral', 'Sad',\n",
       "        'Sad', 'Sad', 'Sad', 'Happy', 'Neutral', 'Happy', 'Neutral',\n",
       "        'Sad', 'Sad', 'Sad', 'Neutral', 'Neutral', 'Sad', 'Sad', 'Happy',\n",
       "        'Neutral', 'Neutral', 'Happy'],\n",
       "       ['181', '197', '0', '174', '223', '149', '140', '38', '1', '40',\n",
       "        '101', '152', '150', '113', '49', '86', '6', '99', '143', '125',\n",
       "        '129', '6', '9', '10', '72', '150', '141', '156', '57', '72',\n",
       "        '17', '181', '197', '131', '154', '137', '193', '19', '101',\n",
       "        '139', '164', '137', '22', '17', '9', '145', '192', '146', '234',\n",
       "        '167', '16', '17', '32', '35', '220', '116', '23', '44', '131',\n",
       "        '86', '194', '60', '121', '76', '93', '53', '25', '227', '125',\n",
       "        '243', '14', '39', '55', '158', '7', '213', '116', '129', '21',\n",
       "        '28', '16', '180', '138', '176', '99', '5', '1', '10', '47',\n",
       "        '84', '23', '4', '0', '0', '0', '0'],\n",
       "       ['5', '8', '5', '4', '5', '6', '6', '7', '5', '6', '8', '5', '6',\n",
       "        '7', '5', '6', '8', '5', '4', '5', '6', '8', '5', '6', '5', '8',\n",
       "        '5', '4', '5', '4', '5', '4', '3', '2', '9', '5', '6', '4', '5',\n",
       "        '8', '4', '5', '6', '5', '6', '5', '6', '5', '6', '5', '6', '7',\n",
       "        '6', '7', '6', '5', '6', '7', '8', '8', '7', '8', '5', '4', '3',\n",
       "        '3', '4', '5', '5', '5', '3', '4', '4', '5', '5', '5', '5', '5',\n",
       "        '5', '4', '3', '4', '5', '5', '4', '5', '3', '3', '3', '2', '3',\n",
       "        '2', '8', '5', '5', '5']], dtype='<U10')"
      ]
     },
     "execution_count": 65,
     "metadata": {},
     "output_type": "execute_result"
    }
   ],
   "source": [
    "data[:5]"
   ]
  },
  {
   "cell_type": "code",
   "execution_count": 67,
   "id": "fbd7f1ec",
   "metadata": {},
   "outputs": [
    {
     "data": {
      "text/plain": [
       "array(['5', '8', '5', '4', '5', '6', '6', '7', '5', '6', '8', '5', '6',\n",
       "       '7', '5', '6', '8', '5', '4', '5', '6', '8', '5', '6', '5', '8',\n",
       "       '5', '4', '5', '4', '5', '4', '3', '2', '9', '5', '6', '4', '5',\n",
       "       '8', '4', '5', '6', '5', '6', '5', '6', '5', '6', '5', '6', '7',\n",
       "       '6', '7', '6', '5', '6', '7', '8', '8', '7', '8', '5', '4', '3',\n",
       "       '3', '4', '5', '5', '5', '3', '4', '4', '5', '5', '5', '5', '5',\n",
       "       '5', '4', '3', '4', '5', '5', '4', '5', '3', '3', '3', '2', '3',\n",
       "       '2', '8', '5', '5', '5'], dtype='<U10')"
      ]
     },
     "execution_count": 67,
     "metadata": {},
     "output_type": "execute_result"
    }
   ],
   "source": [
    "data[4]"
   ]
  },
  {
   "cell_type": "code",
   "execution_count": 70,
   "id": "bf568629",
   "metadata": {},
   "outputs": [],
   "source": [
    "hours_slept = data[4].astype('int')"
   ]
  },
  {
   "cell_type": "code",
   "execution_count": 71,
   "id": "e8e2e128",
   "metadata": {},
   "outputs": [
    {
     "data": {
      "text/plain": [
       "2"
      ]
     },
     "execution_count": 71,
     "metadata": {},
     "output_type": "execute_result"
    }
   ],
   "source": [
    "hours_slept.min()"
   ]
  },
  {
   "cell_type": "code",
   "execution_count": 72,
   "id": "49c1d6cf",
   "metadata": {},
   "outputs": [
    {
     "data": {
      "text/plain": [
       "9"
      ]
     },
     "execution_count": 72,
     "metadata": {},
     "output_type": "execute_result"
    }
   ],
   "source": [
    "hours_slept.max()"
   ]
  },
  {
   "cell_type": "code",
   "execution_count": 73,
   "id": "c2a11fe4",
   "metadata": {},
   "outputs": [
    {
     "data": {
      "text/plain": [
       "5.21875"
      ]
     },
     "execution_count": 73,
     "metadata": {},
     "output_type": "execute_result"
    }
   ],
   "source": [
    "hours_slept.mean()"
   ]
  },
  {
   "cell_type": "code",
   "execution_count": 74,
   "id": "64271c8a",
   "metadata": {},
   "outputs": [
    {
     "data": {
      "text/plain": [
       "5.21875"
      ]
     },
     "execution_count": 74,
     "metadata": {},
     "output_type": "execute_result"
    }
   ],
   "source": [
    "hours_slept.sum()/hours_slept.size"
   ]
  },
  {
   "cell_type": "code",
   "execution_count": 76,
   "id": "42743255",
   "metadata": {},
   "outputs": [
    {
     "data": {
      "text/plain": [
       "5.21875"
      ]
     },
     "execution_count": 76,
     "metadata": {},
     "output_type": "execute_result"
    }
   ],
   "source": [
    "hours_slept.sum()/hours_slept.shape[0]"
   ]
  },
  {
   "cell_type": "code",
   "execution_count": 77,
   "id": "92c6c885",
   "metadata": {},
   "outputs": [
    {
     "data": {
      "text/plain": [
       "5.21875"
      ]
     },
     "execution_count": 77,
     "metadata": {},
     "output_type": "execute_result"
    }
   ],
   "source": [
    "hours_slept.sum()/len(hours_slept)"
   ]
  },
  {
   "cell_type": "code",
   "execution_count": 78,
   "id": "be55fd56",
   "metadata": {},
   "outputs": [
    {
     "data": {
      "text/plain": [
       "501"
      ]
     },
     "execution_count": 78,
     "metadata": {},
     "output_type": "execute_result"
    }
   ],
   "source": [
    "hours_slept.sum()"
   ]
  },
  {
   "cell_type": "code",
   "execution_count": 79,
   "id": "8c93cf87",
   "metadata": {},
   "outputs": [
    {
     "data": {
      "text/plain": [
       "96"
      ]
     },
     "execution_count": 79,
     "metadata": {},
     "output_type": "execute_result"
    }
   ],
   "source": [
    "hours_slept.size"
   ]
  },
  {
   "cell_type": "code",
   "execution_count": 80,
   "id": "811dbf76",
   "metadata": {},
   "outputs": [
    {
     "data": {
      "text/plain": [
       "3"
      ]
     },
     "execution_count": 80,
     "metadata": {},
     "output_type": "execute_result"
    }
   ],
   "source": [
    "hours_slept[90]"
   ]
  },
  {
   "cell_type": "code",
   "execution_count": 81,
   "id": "3f99bcb6",
   "metadata": {},
   "outputs": [
    {
     "data": {
      "text/plain": [
       "5"
      ]
     },
     "execution_count": 81,
     "metadata": {},
     "output_type": "execute_result"
    }
   ],
   "source": [
    "hours_slept[95]"
   ]
  },
  {
   "cell_type": "code",
   "execution_count": null,
   "id": "5940a019",
   "metadata": {},
   "outputs": [],
   "source": []
  }
 ],
 "metadata": {
  "kernelspec": {
   "display_name": "Python 3 (ipykernel)",
   "language": "python",
   "name": "python3"
  },
  "language_info": {
   "codemirror_mode": {
    "name": "ipython",
    "version": 3
   },
   "file_extension": ".py",
   "mimetype": "text/x-python",
   "name": "python",
   "nbconvert_exporter": "python",
   "pygments_lexer": "ipython3",
   "version": "3.11.2"
  }
 },
 "nbformat": 4,
 "nbformat_minor": 5
}
